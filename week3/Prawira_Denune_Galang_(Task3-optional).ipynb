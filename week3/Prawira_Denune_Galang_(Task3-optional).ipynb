{
  "nbformat": 4,
  "nbformat_minor": 0,
  "metadata": {
    "colab": {
      "provenance": []
    },
    "kernelspec": {
      "name": "python3",
      "display_name": "Python 3"
    },
    "language_info": {
      "name": "python"
    }
  },
  "cells": [
    {
      "cell_type": "code",
      "source": [
        "df = pd.read_csv('Data_MASQLong.csv')"
      ],
      "metadata": {
        "id": "hyli_sNEukC6"
      },
      "execution_count": 19,
      "outputs": []
    },
    {
      "cell_type": "code",
      "source": [
        "df"
      ],
      "metadata": {
        "colab": {
          "base_uri": "https://localhost:8080/",
          "height": 444
        },
        "id": "hX3obohJud7D",
        "outputId": "af258f4d-f280-4e77-baf4-0a5656537f7d"
      },
      "execution_count": 20,
      "outputs": [
        {
          "output_type": "execute_result",
          "data": {
            "text/plain": [
              "      ID  Age_T1  Gender  Edu_T1  MH_Diag_T1  MASQDG_mean_T1  MASQAN_mean_T1  \\\n",
              "0      1      19     2.0       1           2           1.125             2.0   \n",
              "1      2      20     1.0       1           2           2.750             1.6   \n",
              "2      5      23     1.0       1           1           1.500             1.1   \n",
              "3      6      24     2.0       3           2           4.000             1.6   \n",
              "4      7      19     1.0       1           2           1.500             1.0   \n",
              "..   ...     ...     ...     ...         ...             ...             ...   \n",
              "226  503      18     1.0       1           2           2.125             1.5   \n",
              "227  504      18     1.0       1           2           2.500             1.2   \n",
              "228  510      33     1.0       3           2           5.000             3.5   \n",
              "229  514      26     2.0       3           2           1.125             1.0   \n",
              "230  515      27     1.0       3           2           1.625             1.2   \n",
              "\n",
              "     MASQ_ANH_mean_T1  MASQDG_sum_T1  MASQAN_sum_T1  ...  MASQAN_sum_T3  \\\n",
              "0               2.375              9             20  ...             11   \n",
              "1               3.750             22             16  ...             19   \n",
              "2               2.000             12             11  ...             12   \n",
              "3               3.750             32             16  ...             24   \n",
              "4               2.500             12             10  ...             10   \n",
              "..                ...            ...            ...  ...            ...   \n",
              "226             2.500             17             15  ...             10   \n",
              "227             3.750             20             12  ...             18   \n",
              "228             3.625             40             35  ...             15   \n",
              "229             1.750              9             10  ...             10   \n",
              "230             1.750             13             12  ...             12   \n",
              "\n",
              "     MASQ_ANH_sum_T3  Age_T4  MASQ_ANH_mean_T4  MASQDG_mean_T4  \\\n",
              "0                 18      19             2.500           1.500   \n",
              "1                 22      20             4.000           2.125   \n",
              "2                 19      24             3.125           1.875   \n",
              "3                 25      25             4.125           3.250   \n",
              "4                 26      20             4.000           2.875   \n",
              "..               ...     ...               ...             ...   \n",
              "226               26      18             2.750           1.875   \n",
              "227               18      18             2.750           2.500   \n",
              "228               31      33             4.250           3.500   \n",
              "229               14      27             1.750           1.000   \n",
              "230               14      28             3.250           1.750   \n",
              "\n",
              "     MASQAN_mean_T4  MASQDG_sum_T4  MASQAN_sum_T4  MASQ_ANH_sum_T4  \\\n",
              "0               1.2             12             12               20   \n",
              "1               1.2             17             12               32   \n",
              "2               1.7             15             17               25   \n",
              "3               1.1             26             11               33   \n",
              "4               1.0             23             10               32   \n",
              "..              ...            ...            ...              ...   \n",
              "226             1.2             15             12               22   \n",
              "227             1.3             20             13               22   \n",
              "228             2.7             28             27               34   \n",
              "229             1.0              8             10               14   \n",
              "230             1.0             14             10               26   \n",
              "\n",
              "     Age_T1_group  \n",
              "0           17-20  \n",
              "1           17-20  \n",
              "2             >23  \n",
              "3             >23  \n",
              "4           17-20  \n",
              "..            ...  \n",
              "226         17-20  \n",
              "227         17-20  \n",
              "228           >23  \n",
              "229           >23  \n",
              "230           >23  \n",
              "\n",
              "[231 rows x 38 columns]"
            ],
            "text/html": [
              "\n",
              "  <div id=\"df-72f7adc4-af06-4b31-9246-76e17182840e\" class=\"colab-df-container\">\n",
              "    <div>\n",
              "<style scoped>\n",
              "    .dataframe tbody tr th:only-of-type {\n",
              "        vertical-align: middle;\n",
              "    }\n",
              "\n",
              "    .dataframe tbody tr th {\n",
              "        vertical-align: top;\n",
              "    }\n",
              "\n",
              "    .dataframe thead th {\n",
              "        text-align: right;\n",
              "    }\n",
              "</style>\n",
              "<table border=\"1\" class=\"dataframe\">\n",
              "  <thead>\n",
              "    <tr style=\"text-align: right;\">\n",
              "      <th></th>\n",
              "      <th>ID</th>\n",
              "      <th>Age_T1</th>\n",
              "      <th>Gender</th>\n",
              "      <th>Edu_T1</th>\n",
              "      <th>MH_Diag_T1</th>\n",
              "      <th>MASQDG_mean_T1</th>\n",
              "      <th>MASQAN_mean_T1</th>\n",
              "      <th>MASQ_ANH_mean_T1</th>\n",
              "      <th>MASQDG_sum_T1</th>\n",
              "      <th>MASQAN_sum_T1</th>\n",
              "      <th>...</th>\n",
              "      <th>MASQAN_sum_T3</th>\n",
              "      <th>MASQ_ANH_sum_T3</th>\n",
              "      <th>Age_T4</th>\n",
              "      <th>MASQ_ANH_mean_T4</th>\n",
              "      <th>MASQDG_mean_T4</th>\n",
              "      <th>MASQAN_mean_T4</th>\n",
              "      <th>MASQDG_sum_T4</th>\n",
              "      <th>MASQAN_sum_T4</th>\n",
              "      <th>MASQ_ANH_sum_T4</th>\n",
              "      <th>Age_T1_group</th>\n",
              "    </tr>\n",
              "  </thead>\n",
              "  <tbody>\n",
              "    <tr>\n",
              "      <th>0</th>\n",
              "      <td>1</td>\n",
              "      <td>19</td>\n",
              "      <td>2.0</td>\n",
              "      <td>1</td>\n",
              "      <td>2</td>\n",
              "      <td>1.125</td>\n",
              "      <td>2.0</td>\n",
              "      <td>2.375</td>\n",
              "      <td>9</td>\n",
              "      <td>20</td>\n",
              "      <td>...</td>\n",
              "      <td>11</td>\n",
              "      <td>18</td>\n",
              "      <td>19</td>\n",
              "      <td>2.500</td>\n",
              "      <td>1.500</td>\n",
              "      <td>1.2</td>\n",
              "      <td>12</td>\n",
              "      <td>12</td>\n",
              "      <td>20</td>\n",
              "      <td>17-20</td>\n",
              "    </tr>\n",
              "    <tr>\n",
              "      <th>1</th>\n",
              "      <td>2</td>\n",
              "      <td>20</td>\n",
              "      <td>1.0</td>\n",
              "      <td>1</td>\n",
              "      <td>2</td>\n",
              "      <td>2.750</td>\n",
              "      <td>1.6</td>\n",
              "      <td>3.750</td>\n",
              "      <td>22</td>\n",
              "      <td>16</td>\n",
              "      <td>...</td>\n",
              "      <td>19</td>\n",
              "      <td>22</td>\n",
              "      <td>20</td>\n",
              "      <td>4.000</td>\n",
              "      <td>2.125</td>\n",
              "      <td>1.2</td>\n",
              "      <td>17</td>\n",
              "      <td>12</td>\n",
              "      <td>32</td>\n",
              "      <td>17-20</td>\n",
              "    </tr>\n",
              "    <tr>\n",
              "      <th>2</th>\n",
              "      <td>5</td>\n",
              "      <td>23</td>\n",
              "      <td>1.0</td>\n",
              "      <td>1</td>\n",
              "      <td>1</td>\n",
              "      <td>1.500</td>\n",
              "      <td>1.1</td>\n",
              "      <td>2.000</td>\n",
              "      <td>12</td>\n",
              "      <td>11</td>\n",
              "      <td>...</td>\n",
              "      <td>12</td>\n",
              "      <td>19</td>\n",
              "      <td>24</td>\n",
              "      <td>3.125</td>\n",
              "      <td>1.875</td>\n",
              "      <td>1.7</td>\n",
              "      <td>15</td>\n",
              "      <td>17</td>\n",
              "      <td>25</td>\n",
              "      <td>&gt;23</td>\n",
              "    </tr>\n",
              "    <tr>\n",
              "      <th>3</th>\n",
              "      <td>6</td>\n",
              "      <td>24</td>\n",
              "      <td>2.0</td>\n",
              "      <td>3</td>\n",
              "      <td>2</td>\n",
              "      <td>4.000</td>\n",
              "      <td>1.6</td>\n",
              "      <td>3.750</td>\n",
              "      <td>32</td>\n",
              "      <td>16</td>\n",
              "      <td>...</td>\n",
              "      <td>24</td>\n",
              "      <td>25</td>\n",
              "      <td>25</td>\n",
              "      <td>4.125</td>\n",
              "      <td>3.250</td>\n",
              "      <td>1.1</td>\n",
              "      <td>26</td>\n",
              "      <td>11</td>\n",
              "      <td>33</td>\n",
              "      <td>&gt;23</td>\n",
              "    </tr>\n",
              "    <tr>\n",
              "      <th>4</th>\n",
              "      <td>7</td>\n",
              "      <td>19</td>\n",
              "      <td>1.0</td>\n",
              "      <td>1</td>\n",
              "      <td>2</td>\n",
              "      <td>1.500</td>\n",
              "      <td>1.0</td>\n",
              "      <td>2.500</td>\n",
              "      <td>12</td>\n",
              "      <td>10</td>\n",
              "      <td>...</td>\n",
              "      <td>10</td>\n",
              "      <td>26</td>\n",
              "      <td>20</td>\n",
              "      <td>4.000</td>\n",
              "      <td>2.875</td>\n",
              "      <td>1.0</td>\n",
              "      <td>23</td>\n",
              "      <td>10</td>\n",
              "      <td>32</td>\n",
              "      <td>17-20</td>\n",
              "    </tr>\n",
              "    <tr>\n",
              "      <th>...</th>\n",
              "      <td>...</td>\n",
              "      <td>...</td>\n",
              "      <td>...</td>\n",
              "      <td>...</td>\n",
              "      <td>...</td>\n",
              "      <td>...</td>\n",
              "      <td>...</td>\n",
              "      <td>...</td>\n",
              "      <td>...</td>\n",
              "      <td>...</td>\n",
              "      <td>...</td>\n",
              "      <td>...</td>\n",
              "      <td>...</td>\n",
              "      <td>...</td>\n",
              "      <td>...</td>\n",
              "      <td>...</td>\n",
              "      <td>...</td>\n",
              "      <td>...</td>\n",
              "      <td>...</td>\n",
              "      <td>...</td>\n",
              "      <td>...</td>\n",
              "    </tr>\n",
              "    <tr>\n",
              "      <th>226</th>\n",
              "      <td>503</td>\n",
              "      <td>18</td>\n",
              "      <td>1.0</td>\n",
              "      <td>1</td>\n",
              "      <td>2</td>\n",
              "      <td>2.125</td>\n",
              "      <td>1.5</td>\n",
              "      <td>2.500</td>\n",
              "      <td>17</td>\n",
              "      <td>15</td>\n",
              "      <td>...</td>\n",
              "      <td>10</td>\n",
              "      <td>26</td>\n",
              "      <td>18</td>\n",
              "      <td>2.750</td>\n",
              "      <td>1.875</td>\n",
              "      <td>1.2</td>\n",
              "      <td>15</td>\n",
              "      <td>12</td>\n",
              "      <td>22</td>\n",
              "      <td>17-20</td>\n",
              "    </tr>\n",
              "    <tr>\n",
              "      <th>227</th>\n",
              "      <td>504</td>\n",
              "      <td>18</td>\n",
              "      <td>1.0</td>\n",
              "      <td>1</td>\n",
              "      <td>2</td>\n",
              "      <td>2.500</td>\n",
              "      <td>1.2</td>\n",
              "      <td>3.750</td>\n",
              "      <td>20</td>\n",
              "      <td>12</td>\n",
              "      <td>...</td>\n",
              "      <td>18</td>\n",
              "      <td>18</td>\n",
              "      <td>18</td>\n",
              "      <td>2.750</td>\n",
              "      <td>2.500</td>\n",
              "      <td>1.3</td>\n",
              "      <td>20</td>\n",
              "      <td>13</td>\n",
              "      <td>22</td>\n",
              "      <td>17-20</td>\n",
              "    </tr>\n",
              "    <tr>\n",
              "      <th>228</th>\n",
              "      <td>510</td>\n",
              "      <td>33</td>\n",
              "      <td>1.0</td>\n",
              "      <td>3</td>\n",
              "      <td>2</td>\n",
              "      <td>5.000</td>\n",
              "      <td>3.5</td>\n",
              "      <td>3.625</td>\n",
              "      <td>40</td>\n",
              "      <td>35</td>\n",
              "      <td>...</td>\n",
              "      <td>15</td>\n",
              "      <td>31</td>\n",
              "      <td>33</td>\n",
              "      <td>4.250</td>\n",
              "      <td>3.500</td>\n",
              "      <td>2.7</td>\n",
              "      <td>28</td>\n",
              "      <td>27</td>\n",
              "      <td>34</td>\n",
              "      <td>&gt;23</td>\n",
              "    </tr>\n",
              "    <tr>\n",
              "      <th>229</th>\n",
              "      <td>514</td>\n",
              "      <td>26</td>\n",
              "      <td>2.0</td>\n",
              "      <td>3</td>\n",
              "      <td>2</td>\n",
              "      <td>1.125</td>\n",
              "      <td>1.0</td>\n",
              "      <td>1.750</td>\n",
              "      <td>9</td>\n",
              "      <td>10</td>\n",
              "      <td>...</td>\n",
              "      <td>10</td>\n",
              "      <td>14</td>\n",
              "      <td>27</td>\n",
              "      <td>1.750</td>\n",
              "      <td>1.000</td>\n",
              "      <td>1.0</td>\n",
              "      <td>8</td>\n",
              "      <td>10</td>\n",
              "      <td>14</td>\n",
              "      <td>&gt;23</td>\n",
              "    </tr>\n",
              "    <tr>\n",
              "      <th>230</th>\n",
              "      <td>515</td>\n",
              "      <td>27</td>\n",
              "      <td>1.0</td>\n",
              "      <td>3</td>\n",
              "      <td>2</td>\n",
              "      <td>1.625</td>\n",
              "      <td>1.2</td>\n",
              "      <td>1.750</td>\n",
              "      <td>13</td>\n",
              "      <td>12</td>\n",
              "      <td>...</td>\n",
              "      <td>12</td>\n",
              "      <td>14</td>\n",
              "      <td>28</td>\n",
              "      <td>3.250</td>\n",
              "      <td>1.750</td>\n",
              "      <td>1.0</td>\n",
              "      <td>14</td>\n",
              "      <td>10</td>\n",
              "      <td>26</td>\n",
              "      <td>&gt;23</td>\n",
              "    </tr>\n",
              "  </tbody>\n",
              "</table>\n",
              "<p>231 rows × 38 columns</p>\n",
              "</div>\n",
              "    <div class=\"colab-df-buttons\">\n",
              "\n",
              "  <div class=\"colab-df-container\">\n",
              "    <button class=\"colab-df-convert\" onclick=\"convertToInteractive('df-72f7adc4-af06-4b31-9246-76e17182840e')\"\n",
              "            title=\"Convert this dataframe to an interactive table.\"\n",
              "            style=\"display:none;\">\n",
              "\n",
              "  <svg xmlns=\"http://www.w3.org/2000/svg\" height=\"24px\" viewBox=\"0 -960 960 960\">\n",
              "    <path d=\"M120-120v-720h720v720H120Zm60-500h600v-160H180v160Zm220 220h160v-160H400v160Zm0 220h160v-160H400v160ZM180-400h160v-160H180v160Zm440 0h160v-160H620v160ZM180-180h160v-160H180v160Zm440 0h160v-160H620v160Z\"/>\n",
              "  </svg>\n",
              "    </button>\n",
              "\n",
              "  <style>\n",
              "    .colab-df-container {\n",
              "      display:flex;\n",
              "      gap: 12px;\n",
              "    }\n",
              "\n",
              "    .colab-df-convert {\n",
              "      background-color: #E8F0FE;\n",
              "      border: none;\n",
              "      border-radius: 50%;\n",
              "      cursor: pointer;\n",
              "      display: none;\n",
              "      fill: #1967D2;\n",
              "      height: 32px;\n",
              "      padding: 0 0 0 0;\n",
              "      width: 32px;\n",
              "    }\n",
              "\n",
              "    .colab-df-convert:hover {\n",
              "      background-color: #E2EBFA;\n",
              "      box-shadow: 0px 1px 2px rgba(60, 64, 67, 0.3), 0px 1px 3px 1px rgba(60, 64, 67, 0.15);\n",
              "      fill: #174EA6;\n",
              "    }\n",
              "\n",
              "    .colab-df-buttons div {\n",
              "      margin-bottom: 4px;\n",
              "    }\n",
              "\n",
              "    [theme=dark] .colab-df-convert {\n",
              "      background-color: #3B4455;\n",
              "      fill: #D2E3FC;\n",
              "    }\n",
              "\n",
              "    [theme=dark] .colab-df-convert:hover {\n",
              "      background-color: #434B5C;\n",
              "      box-shadow: 0px 1px 3px 1px rgba(0, 0, 0, 0.15);\n",
              "      filter: drop-shadow(0px 1px 2px rgba(0, 0, 0, 0.3));\n",
              "      fill: #FFFFFF;\n",
              "    }\n",
              "  </style>\n",
              "\n",
              "    <script>\n",
              "      const buttonEl =\n",
              "        document.querySelector('#df-72f7adc4-af06-4b31-9246-76e17182840e button.colab-df-convert');\n",
              "      buttonEl.style.display =\n",
              "        google.colab.kernel.accessAllowed ? 'block' : 'none';\n",
              "\n",
              "      async function convertToInteractive(key) {\n",
              "        const element = document.querySelector('#df-72f7adc4-af06-4b31-9246-76e17182840e');\n",
              "        const dataTable =\n",
              "          await google.colab.kernel.invokeFunction('convertToInteractive',\n",
              "                                                    [key], {});\n",
              "        if (!dataTable) return;\n",
              "\n",
              "        const docLinkHtml = 'Like what you see? Visit the ' +\n",
              "          '<a target=\"_blank\" href=https://colab.research.google.com/notebooks/data_table.ipynb>data table notebook</a>'\n",
              "          + ' to learn more about interactive tables.';\n",
              "        element.innerHTML = '';\n",
              "        dataTable['output_type'] = 'display_data';\n",
              "        await google.colab.output.renderOutput(dataTable, element);\n",
              "        const docLink = document.createElement('div');\n",
              "        docLink.innerHTML = docLinkHtml;\n",
              "        element.appendChild(docLink);\n",
              "      }\n",
              "    </script>\n",
              "  </div>\n",
              "\n",
              "\n",
              "    <div id=\"df-f599c39b-2bc1-4330-9a51-f2cb391b882a\">\n",
              "      <button class=\"colab-df-quickchart\" onclick=\"quickchart('df-f599c39b-2bc1-4330-9a51-f2cb391b882a')\"\n",
              "                title=\"Suggest charts\"\n",
              "                style=\"display:none;\">\n",
              "\n",
              "<svg xmlns=\"http://www.w3.org/2000/svg\" height=\"24px\"viewBox=\"0 0 24 24\"\n",
              "     width=\"24px\">\n",
              "    <g>\n",
              "        <path d=\"M19 3H5c-1.1 0-2 .9-2 2v14c0 1.1.9 2 2 2h14c1.1 0 2-.9 2-2V5c0-1.1-.9-2-2-2zM9 17H7v-7h2v7zm4 0h-2V7h2v10zm4 0h-2v-4h2v4z\"/>\n",
              "    </g>\n",
              "</svg>\n",
              "      </button>\n",
              "\n",
              "<style>\n",
              "  .colab-df-quickchart {\n",
              "      --bg-color: #E8F0FE;\n",
              "      --fill-color: #1967D2;\n",
              "      --hover-bg-color: #E2EBFA;\n",
              "      --hover-fill-color: #174EA6;\n",
              "      --disabled-fill-color: #AAA;\n",
              "      --disabled-bg-color: #DDD;\n",
              "  }\n",
              "\n",
              "  [theme=dark] .colab-df-quickchart {\n",
              "      --bg-color: #3B4455;\n",
              "      --fill-color: #D2E3FC;\n",
              "      --hover-bg-color: #434B5C;\n",
              "      --hover-fill-color: #FFFFFF;\n",
              "      --disabled-bg-color: #3B4455;\n",
              "      --disabled-fill-color: #666;\n",
              "  }\n",
              "\n",
              "  .colab-df-quickchart {\n",
              "    background-color: var(--bg-color);\n",
              "    border: none;\n",
              "    border-radius: 50%;\n",
              "    cursor: pointer;\n",
              "    display: none;\n",
              "    fill: var(--fill-color);\n",
              "    height: 32px;\n",
              "    padding: 0;\n",
              "    width: 32px;\n",
              "  }\n",
              "\n",
              "  .colab-df-quickchart:hover {\n",
              "    background-color: var(--hover-bg-color);\n",
              "    box-shadow: 0 1px 2px rgba(60, 64, 67, 0.3), 0 1px 3px 1px rgba(60, 64, 67, 0.15);\n",
              "    fill: var(--button-hover-fill-color);\n",
              "  }\n",
              "\n",
              "  .colab-df-quickchart-complete:disabled,\n",
              "  .colab-df-quickchart-complete:disabled:hover {\n",
              "    background-color: var(--disabled-bg-color);\n",
              "    fill: var(--disabled-fill-color);\n",
              "    box-shadow: none;\n",
              "  }\n",
              "\n",
              "  .colab-df-spinner {\n",
              "    border: 2px solid var(--fill-color);\n",
              "    border-color: transparent;\n",
              "    border-bottom-color: var(--fill-color);\n",
              "    animation:\n",
              "      spin 1s steps(1) infinite;\n",
              "  }\n",
              "\n",
              "  @keyframes spin {\n",
              "    0% {\n",
              "      border-color: transparent;\n",
              "      border-bottom-color: var(--fill-color);\n",
              "      border-left-color: var(--fill-color);\n",
              "    }\n",
              "    20% {\n",
              "      border-color: transparent;\n",
              "      border-left-color: var(--fill-color);\n",
              "      border-top-color: var(--fill-color);\n",
              "    }\n",
              "    30% {\n",
              "      border-color: transparent;\n",
              "      border-left-color: var(--fill-color);\n",
              "      border-top-color: var(--fill-color);\n",
              "      border-right-color: var(--fill-color);\n",
              "    }\n",
              "    40% {\n",
              "      border-color: transparent;\n",
              "      border-right-color: var(--fill-color);\n",
              "      border-top-color: var(--fill-color);\n",
              "    }\n",
              "    60% {\n",
              "      border-color: transparent;\n",
              "      border-right-color: var(--fill-color);\n",
              "    }\n",
              "    80% {\n",
              "      border-color: transparent;\n",
              "      border-right-color: var(--fill-color);\n",
              "      border-bottom-color: var(--fill-color);\n",
              "    }\n",
              "    90% {\n",
              "      border-color: transparent;\n",
              "      border-bottom-color: var(--fill-color);\n",
              "    }\n",
              "  }\n",
              "</style>\n",
              "\n",
              "      <script>\n",
              "        async function quickchart(key) {\n",
              "          const quickchartButtonEl =\n",
              "            document.querySelector('#' + key + ' button');\n",
              "          quickchartButtonEl.disabled = true;  // To prevent multiple clicks.\n",
              "          quickchartButtonEl.classList.add('colab-df-spinner');\n",
              "          try {\n",
              "            const charts = await google.colab.kernel.invokeFunction(\n",
              "                'suggestCharts', [key], {});\n",
              "          } catch (error) {\n",
              "            console.error('Error during call to suggestCharts:', error);\n",
              "          }\n",
              "          quickchartButtonEl.classList.remove('colab-df-spinner');\n",
              "          quickchartButtonEl.classList.add('colab-df-quickchart-complete');\n",
              "        }\n",
              "        (() => {\n",
              "          let quickchartButtonEl =\n",
              "            document.querySelector('#df-f599c39b-2bc1-4330-9a51-f2cb391b882a button');\n",
              "          quickchartButtonEl.style.display =\n",
              "            google.colab.kernel.accessAllowed ? 'block' : 'none';\n",
              "        })();\n",
              "      </script>\n",
              "    </div>\n",
              "    </div>\n",
              "  </div>\n"
            ],
            "application/vnd.google.colaboratory.intrinsic+json": {
              "type": "dataframe",
              "variable_name": "df"
            }
          },
          "metadata": {},
          "execution_count": 20
        }
      ]
    },
    {
      "cell_type": "markdown",
      "source": [
        "Dataset Data_MASQLong.csv contains data regarding students’ mood and anxiety symptoms throughout an academic year (a total of 4 measurements were taken for each participant at T1, T2, T3, and T4), collected at the Northwest Mexico University as a preregistration study.\n",
        "The Faceted Inventory of the Five-Factor Model (FI-FFM) was used to assess personality. It was designed to measure the facets of Big Five personality traits and consists of 207 items (Watson et al., 2017) with a 5-point Likert-type format ranging from strongly disagree to strongly agree.\n",
        "The mini-MASQ (Casillas & Clark, 2000) is a 26-item instrument employing a five-point Likert-style scale. It includes abbreviated versions of three mini-MASQ scales: general distress, anhedonic depression, and anxious arousal.\n",
        "\n",
        "\n",
        "Source: https://osf.io/yjter/\n"
      ],
      "metadata": {
        "id": "eptZigbet6pc"
      }
    },
    {
      "cell_type": "code",
      "source": [
        "!pip install pingouin"
      ],
      "metadata": {
        "colab": {
          "base_uri": "https://localhost:8080/"
        },
        "id": "ng1j11NqXD1X",
        "outputId": "e870ba8f-57ab-4c6c-976a-f03d329da027"
      },
      "execution_count": 21,
      "outputs": [
        {
          "output_type": "stream",
          "name": "stdout",
          "text": [
            "Requirement already satisfied: pingouin in /usr/local/lib/python3.12/dist-packages (0.5.5)\n",
            "Requirement already satisfied: matplotlib in /usr/local/lib/python3.12/dist-packages (from pingouin) (3.10.0)\n",
            "Requirement already satisfied: numpy in /usr/local/lib/python3.12/dist-packages (from pingouin) (2.0.2)\n",
            "Requirement already satisfied: pandas>=1.5 in /usr/local/lib/python3.12/dist-packages (from pingouin) (2.2.2)\n",
            "Requirement already satisfied: pandas-flavor in /usr/local/lib/python3.12/dist-packages (from pingouin) (0.7.0)\n",
            "Requirement already satisfied: scikit-learn>=1.2 in /usr/local/lib/python3.12/dist-packages (from pingouin) (1.6.1)\n",
            "Requirement already satisfied: scipy in /usr/local/lib/python3.12/dist-packages (from pingouin) (1.16.2)\n",
            "Requirement already satisfied: seaborn in /usr/local/lib/python3.12/dist-packages (from pingouin) (0.13.2)\n",
            "Requirement already satisfied: statsmodels in /usr/local/lib/python3.12/dist-packages (from pingouin) (0.14.5)\n",
            "Requirement already satisfied: tabulate in /usr/local/lib/python3.12/dist-packages (from pingouin) (0.9.0)\n",
            "Requirement already satisfied: python-dateutil>=2.8.2 in /usr/local/lib/python3.12/dist-packages (from pandas>=1.5->pingouin) (2.9.0.post0)\n",
            "Requirement already satisfied: pytz>=2020.1 in /usr/local/lib/python3.12/dist-packages (from pandas>=1.5->pingouin) (2025.2)\n",
            "Requirement already satisfied: tzdata>=2022.7 in /usr/local/lib/python3.12/dist-packages (from pandas>=1.5->pingouin) (2025.2)\n",
            "Requirement already satisfied: joblib>=1.2.0 in /usr/local/lib/python3.12/dist-packages (from scikit-learn>=1.2->pingouin) (1.5.2)\n",
            "Requirement already satisfied: threadpoolctl>=3.1.0 in /usr/local/lib/python3.12/dist-packages (from scikit-learn>=1.2->pingouin) (3.6.0)\n",
            "Requirement already satisfied: contourpy>=1.0.1 in /usr/local/lib/python3.12/dist-packages (from matplotlib->pingouin) (1.3.3)\n",
            "Requirement already satisfied: cycler>=0.10 in /usr/local/lib/python3.12/dist-packages (from matplotlib->pingouin) (0.12.1)\n",
            "Requirement already satisfied: fonttools>=4.22.0 in /usr/local/lib/python3.12/dist-packages (from matplotlib->pingouin) (4.60.0)\n",
            "Requirement already satisfied: kiwisolver>=1.3.1 in /usr/local/lib/python3.12/dist-packages (from matplotlib->pingouin) (1.4.9)\n",
            "Requirement already satisfied: packaging>=20.0 in /usr/local/lib/python3.12/dist-packages (from matplotlib->pingouin) (25.0)\n",
            "Requirement already satisfied: pillow>=8 in /usr/local/lib/python3.12/dist-packages (from matplotlib->pingouin) (11.3.0)\n",
            "Requirement already satisfied: pyparsing>=2.3.1 in /usr/local/lib/python3.12/dist-packages (from matplotlib->pingouin) (3.2.4)\n",
            "Requirement already satisfied: xarray in /usr/local/lib/python3.12/dist-packages (from pandas-flavor->pingouin) (2025.9.0)\n",
            "Requirement already satisfied: patsy>=0.5.6 in /usr/local/lib/python3.12/dist-packages (from statsmodels->pingouin) (1.0.1)\n",
            "Requirement already satisfied: six>=1.5 in /usr/local/lib/python3.12/dist-packages (from python-dateutil>=2.8.2->pandas>=1.5->pingouin) (1.17.0)\n"
          ]
        }
      ]
    },
    {
      "cell_type": "code",
      "source": [
        "import pingouin as pg\n",
        "import pandas as pd\n",
        "import numpy as np\n",
        "from scipy import stats\n",
        "from statsmodels.stats.multicomp import pairwise_tukeyhsd\n",
        "from scipy.stats import norm, pointbiserialr\n",
        "import seaborn as sns\n",
        "import matplotlib.pyplot as plt"
      ],
      "metadata": {
        "id": "8XiZ_Kttqdt8"
      },
      "execution_count": 22,
      "outputs": []
    },
    {
      "cell_type": "markdown",
      "source": [],
      "metadata": {
        "id": "N_t1eOkiuXIB"
      }
    },
    {
      "cell_type": "code",
      "metadata": {
        "colab": {
          "base_uri": "https://localhost:8080/",
          "height": 1000
        },
        "id": "7ZPXVfkApkiJ",
        "outputId": "fd8b848d-9001-4185-bad0-228deb1feb60"
      },
      "source": [
        "# Analyze Extra_T1\n",
        "print(\"Analysis of Extra_T1:\")\n",
        "display(df['Extra_T1'].describe())\n",
        "\n",
        "# Analyze MASQAN_sum_T1\n",
        "print(\"\\nAnalysis of MASQAN_sum_T1:\")\n",
        "display(df['MASQAN_sum_T1'].describe())\n",
        "\n",
        "\n",
        "\n",
        "plt.figure(figsize=(10, 5))\n",
        "plt.subplot(1, 2, 1)\n",
        "df['Extra_T1'].hist(bins=20)\n",
        "plt.title('Distribution of Extra_T1')\n",
        "plt.xlabel('Extra_T1 Score')\n",
        "plt.ylabel('Frequency')\n",
        "\n",
        "plt.subplot(1, 2, 2)\n",
        "df['MASQAN_sum_T1'].hist(bins=20)\n",
        "plt.title('Distribution of MASQAN_sum_T1')\n",
        "plt.xlabel('MASQAN_sum_T1 Score')\n",
        "plt.ylabel('Frequency')\n",
        "\n",
        "plt.tight_layout()\n",
        "plt.show()"
      ],
      "execution_count": 23,
      "outputs": [
        {
          "output_type": "stream",
          "name": "stdout",
          "text": [
            "Analysis of Extra_T1:\n"
          ]
        },
        {
          "output_type": "display_data",
          "data": {
            "text/plain": [
              "count    231.000000\n",
              "mean       3.240789\n",
              "std        0.526470\n",
              "min        1.513890\n",
              "25%        2.949110\n",
              "50%        3.236110\n",
              "75%        3.612500\n",
              "max        4.736110\n",
              "Name: Extra_T1, dtype: float64"
            ],
            "text/html": [
              "<div>\n",
              "<style scoped>\n",
              "    .dataframe tbody tr th:only-of-type {\n",
              "        vertical-align: middle;\n",
              "    }\n",
              "\n",
              "    .dataframe tbody tr th {\n",
              "        vertical-align: top;\n",
              "    }\n",
              "\n",
              "    .dataframe thead th {\n",
              "        text-align: right;\n",
              "    }\n",
              "</style>\n",
              "<table border=\"1\" class=\"dataframe\">\n",
              "  <thead>\n",
              "    <tr style=\"text-align: right;\">\n",
              "      <th></th>\n",
              "      <th>Extra_T1</th>\n",
              "    </tr>\n",
              "  </thead>\n",
              "  <tbody>\n",
              "    <tr>\n",
              "      <th>count</th>\n",
              "      <td>231.000000</td>\n",
              "    </tr>\n",
              "    <tr>\n",
              "      <th>mean</th>\n",
              "      <td>3.240789</td>\n",
              "    </tr>\n",
              "    <tr>\n",
              "      <th>std</th>\n",
              "      <td>0.526470</td>\n",
              "    </tr>\n",
              "    <tr>\n",
              "      <th>min</th>\n",
              "      <td>1.513890</td>\n",
              "    </tr>\n",
              "    <tr>\n",
              "      <th>25%</th>\n",
              "      <td>2.949110</td>\n",
              "    </tr>\n",
              "    <tr>\n",
              "      <th>50%</th>\n",
              "      <td>3.236110</td>\n",
              "    </tr>\n",
              "    <tr>\n",
              "      <th>75%</th>\n",
              "      <td>3.612500</td>\n",
              "    </tr>\n",
              "    <tr>\n",
              "      <th>max</th>\n",
              "      <td>4.736110</td>\n",
              "    </tr>\n",
              "  </tbody>\n",
              "</table>\n",
              "</div><br><label><b>dtype:</b> float64</label>"
            ]
          },
          "metadata": {}
        },
        {
          "output_type": "stream",
          "name": "stdout",
          "text": [
            "\n",
            "Analysis of MASQAN_sum_T1:\n"
          ]
        },
        {
          "output_type": "display_data",
          "data": {
            "text/plain": [
              "count    231.000000\n",
              "mean      17.653680\n",
              "std        8.215652\n",
              "min        9.000000\n",
              "25%       11.000000\n",
              "50%       15.000000\n",
              "75%       21.000000\n",
              "max       47.000000\n",
              "Name: MASQAN_sum_T1, dtype: float64"
            ],
            "text/html": [
              "<div>\n",
              "<style scoped>\n",
              "    .dataframe tbody tr th:only-of-type {\n",
              "        vertical-align: middle;\n",
              "    }\n",
              "\n",
              "    .dataframe tbody tr th {\n",
              "        vertical-align: top;\n",
              "    }\n",
              "\n",
              "    .dataframe thead th {\n",
              "        text-align: right;\n",
              "    }\n",
              "</style>\n",
              "<table border=\"1\" class=\"dataframe\">\n",
              "  <thead>\n",
              "    <tr style=\"text-align: right;\">\n",
              "      <th></th>\n",
              "      <th>MASQAN_sum_T1</th>\n",
              "    </tr>\n",
              "  </thead>\n",
              "  <tbody>\n",
              "    <tr>\n",
              "      <th>count</th>\n",
              "      <td>231.000000</td>\n",
              "    </tr>\n",
              "    <tr>\n",
              "      <th>mean</th>\n",
              "      <td>17.653680</td>\n",
              "    </tr>\n",
              "    <tr>\n",
              "      <th>std</th>\n",
              "      <td>8.215652</td>\n",
              "    </tr>\n",
              "    <tr>\n",
              "      <th>min</th>\n",
              "      <td>9.000000</td>\n",
              "    </tr>\n",
              "    <tr>\n",
              "      <th>25%</th>\n",
              "      <td>11.000000</td>\n",
              "    </tr>\n",
              "    <tr>\n",
              "      <th>50%</th>\n",
              "      <td>15.000000</td>\n",
              "    </tr>\n",
              "    <tr>\n",
              "      <th>75%</th>\n",
              "      <td>21.000000</td>\n",
              "    </tr>\n",
              "    <tr>\n",
              "      <th>max</th>\n",
              "      <td>47.000000</td>\n",
              "    </tr>\n",
              "  </tbody>\n",
              "</table>\n",
              "</div><br><label><b>dtype:</b> float64</label>"
            ]
          },
          "metadata": {}
        },
        {
          "output_type": "display_data",
          "data": {
            "text/plain": [
              "<Figure size 1000x500 with 2 Axes>"
            ],
            "image/png": "[encoded data removed]"
          },
          "metadata": {}
        }
      ]
    },
    {
      "cell_type": "markdown",
      "source": [
        "## 1. Normality tests"
      ],
      "metadata": {
        "id": "ppMy_fa3XtS2"
      }
    },
    {
      "cell_type": "markdown",
      "source": [
        "### Extra_T1"
      ],
      "metadata": {
        "id": "S5-FNXg3YQnE"
      }
    },
    {
      "cell_type": "code",
      "source": [
        "stat, p = stats.kstest(df[\"Extra_T1\"], 'norm', args=(df[\"Extra_T1\"].mean(), df[\"Extra_T1\"].std()))\n",
        "print(f\" Result for Extra_T1: Statistic={stat:.4f}, p-value={p:.4f}\")"
      ],
      "metadata": {
        "colab": {
          "base_uri": "https://localhost:8080/"
        },
        "id": "3WY9bSIvXTeF",
        "outputId": "df1ad665-c457-4761-e457-5b404825c0d3"
      },
      "execution_count": 30,
      "outputs": [
        {
          "output_type": "stream",
          "name": "stdout",
          "text": [
            " Result for Extra_T1: Statistic=0.0467, p-value=0.6781\n"
          ]
        }
      ]
    },
    {
      "cell_type": "code",
      "source": [
        "sns.distplot(df['Extra_T1'].dropna(), fit=norm)"
      ],
      "metadata": {
        "colab": {
          "base_uri": "https://localhost:8080/",
          "height": 657
        },
        "collapsed": true,
        "id": "rry7GHnQXdIM",
        "outputId": "e38b5104-1a52-41ee-9b2d-4801969922ea"
      },
      "execution_count": 29,
      "outputs": [
        {
          "output_type": "stream",
          "name": "stderr",
          "text": [
            "/tmp/ipython-input-408202566.py:1: UserWarning: \n",
            "\n",
            "`distplot` is a deprecated function and will be removed in seaborn v0.14.0.\n",
            "\n",
            "Please adapt your code to use either `displot` (a figure-level function with\n",
            "similar flexibility) or `histplot` (an axes-level function for histograms).\n",
            "\n",
            "For a guide to updating your code to use the new functions, please see\n",
            "https://gist.github.com/mwaskom/de44147ed2974457ad6372750bbe5751\n",
            "\n",
            "  sns.distplot(df['Extra_T1'].dropna(), fit=norm)\n"
          ]
        },
        {
          "output_type": "execute_result",
          "data": {
            "text/plain": [
              "<Axes: xlabel='Extra_T1', ylabel='Density'>"
            ]
          },
          "metadata": {},
          "execution_count": 29
        },
        {
          "output_type": "display_data",
          "data": {
            "text/plain": [
              "<Figure size 640x480 with 1 Axes>"
            ],
            "image/png": "[encoded data removed]"
          },
          "metadata": {}
        }
      ]
    },
    {
      "cell_type": "markdown",
      "source": [
        "### MASQAN_sum_T1"
      ],
      "metadata": {
        "id": "KcF-rF7SYd2v"
      }
    },
    {
      "cell_type": "code",
      "source": [
        "# @title\n",
        "stat, p = stats.kstest(df[\"MASQAN_sum_T1\"], 'norm', args=(df[\"MASQAN_sum_T1\"].mean(), df[\"MASQAN_sum_T1\"].std()))\n",
        "print(f\" Result for MASQAN_sum_T1: Statistic={stat:.4f}, p-value={p:.4f}\")"
      ],
      "metadata": {
        "colab": {
          "base_uri": "https://localhost:8080/"
        },
        "collapsed": true,
        "id": "qNlanC6HXe4N",
        "outputId": "22825f23-2860-4641-e273-d2ac79cd97a8"
      },
      "execution_count": 39,
      "outputs": [
        {
          "output_type": "stream",
          "name": "stdout",
          "text": [
            " Result for MASQAN_sum_T1: Statistic=0.1854, p-value=0.0000\n"
          ]
        }
      ]
    },
    {
      "cell_type": "code",
      "source": [
        "sns.distplot(df['MASQ_ANH_sum_T1'].dropna(), fit=norm)"
      ],
      "metadata": {
        "colab": {
          "base_uri": "https://localhost:8080/",
          "height": 0
        },
        "collapsed": true,
        "id": "GSxijYmRXfDO",
        "outputId": "25a45d46-b5f1-4233-c401-7c3cc2bc4399"
      },
      "execution_count": 34,
      "outputs": [
        {
          "output_type": "stream",
          "name": "stderr",
          "text": [
            "/tmp/ipython-input-2425022845.py:1: UserWarning: \n",
            "\n",
            "`distplot` is a deprecated function and will be removed in seaborn v0.14.0.\n",
            "\n",
            "Please adapt your code to use either `displot` (a figure-level function with\n",
            "similar flexibility) or `histplot` (an axes-level function for histograms).\n",
            "\n",
            "For a guide to updating your code to use the new functions, please see\n",
            "https://gist.github.com/mwaskom/de44147ed2974457ad6372750bbe5751\n",
            "\n",
            "  sns.distplot(df['MASQ_ANH_sum_T1'].dropna(), fit=norm)\n"
          ]
        },
        {
          "output_type": "execute_result",
          "data": {
            "text/plain": [
              "<Axes: xlabel='MASQ_ANH_sum_T1', ylabel='Density'>"
            ]
          },
          "metadata": {},
          "execution_count": 34
        },
        {
          "output_type": "display_data",
          "data": {
            "text/plain": [
              "<Figure size 640x480 with 1 Axes>"
            ],
            "image/png": "[encoded data removed]"
          },
          "metadata": {}
        }
      ]
    },
    {
      "cell_type": "markdown",
      "source": [
        "### MASQ_ANH_sum_T1"
      ],
      "metadata": {
        "id": "uce1PeslbH1r"
      }
    },
    {
      "cell_type": "code",
      "source": [
        "stat, p = stats.kstest(df[\"MASQ_ANH_sum_T1\"], 'norm', args=(df[\"MASQ_ANH_sum_T1\"].mean(), df[\"MASQ_ANH_sum_T1\"].std()))\n",
        "print(f\" Result for MASQ_ANH_sum_T1: Statistic={stat:.4f}, p-value={p:.4f}\")"
      ],
      "metadata": {
        "id": "We2FBzHqa0qr"
      },
      "execution_count": null,
      "outputs": []
    },
    {
      "cell_type": "code",
      "source": [
        "sns.distplot(df['MASQ_ANH_sum_T1'].dropna(), fit=norm)"
      ],
      "metadata": {
        "id": "FXuy-wmla05z"
      },
      "execution_count": null,
      "outputs": []
    },
    {
      "cell_type": "markdown",
      "source": [
        "### MASQ_ANH_sum_T4"
      ],
      "metadata": {
        "id": "xhouCzEBY3xx"
      }
    },
    {
      "cell_type": "code",
      "source": [
        "stat, p = stats.kstest(df[\"MASQ_ANH_sum_T4\"], 'norm', args=(df[\"MASQ_ANH_sum_T4\"].mean(), df[\"MASQ_ANH_sum_T4\"].std()))\n",
        "print(f\" Result for MASQ_ANH_sum_T4: Statistic={stat:.4f}, p-value={p:.4f}\")"
      ],
      "metadata": {
        "id": "n7v09XyMbW7Q"
      },
      "execution_count": null,
      "outputs": []
    },
    {
      "cell_type": "code",
      "source": [
        "sns.distplot(df['MASQ_ANH_sum_T4'].dropna(), fit=norm)"
      ],
      "metadata": {
        "id": "PN0B0seubX-R"
      },
      "execution_count": null,
      "outputs": []
    },
    {
      "cell_type": "markdown",
      "source": [
        "### MASQDG_sum_T1"
      ],
      "metadata": {
        "id": "QZJsC5lQYxKG"
      }
    },
    {
      "cell_type": "code",
      "source": [
        "stat, p = stats.kstest(df[\"MASQDG_sum_T1\"], 'norm', args=(df[\"MASQDG_sum_T1\"].mean(), df[\"MASQDG_sum_T1\"].std()))\n",
        "print(f\" Result for MASQDG_sum_T1: Statistic={stat:.4f}, p-value={p:.4f}\")"
      ],
      "metadata": {
        "colab": {
          "base_uri": "https://localhost:8080/"
        },
        "id": "kAYwWubQXfKq",
        "outputId": "fe8e767f-7392-4534-f318-8221c7d25a96"
      },
      "execution_count": 37,
      "outputs": [
        {
          "output_type": "stream",
          "name": "stdout",
          "text": [
            " Result for MASQDG_sum_T1: Statistic=0.1561, p-value=0.0000\n"
          ]
        }
      ]
    },
    {
      "cell_type": "code",
      "source": [
        "sns.distplot(df['MASQDG_sum_T1'].dropna(), fit=norm)"
      ],
      "metadata": {
        "id": "j2JAmbYGx-KU",
        "colab": {
          "base_uri": "https://localhost:8080/",
          "height": 657
        },
        "collapsed": true,
        "outputId": "c1d66ab3-0a75-490f-8dd5-5e8992c3285e"
      },
      "execution_count": 38,
      "outputs": [
        {
          "output_type": "stream",
          "name": "stderr",
          "text": [
            "/tmp/ipython-input-2065624635.py:1: UserWarning: \n",
            "\n",
            "`distplot` is a deprecated function and will be removed in seaborn v0.14.0.\n",
            "\n",
            "Please adapt your code to use either `displot` (a figure-level function with\n",
            "similar flexibility) or `histplot` (an axes-level function for histograms).\n",
            "\n",
            "For a guide to updating your code to use the new functions, please see\n",
            "https://gist.github.com/mwaskom/de44147ed2974457ad6372750bbe5751\n",
            "\n",
            "  sns.distplot(df['MASQDG_sum_T1'].dropna(), fit=norm)\n"
          ]
        },
        {
          "output_type": "execute_result",
          "data": {
            "text/plain": [
              "<Axes: xlabel='MASQDG_sum_T1', ylabel='Density'>"
            ]
          },
          "metadata": {},
          "execution_count": 38
        },
        {
          "output_type": "display_data",
          "data": {
            "text/plain": [
              "<Figure size 640x480 with 1 Axes>"
            ],
            "image/png": "[encoded data removed]"
          },
          "metadata": {}
        }
      ]
    },
    {
      "cell_type": "markdown",
      "source": [
        "### MASQDG_sum_T4"
      ],
      "metadata": {
        "id": "jIb-0VhDYrOB"
      }
    },
    {
      "cell_type": "code",
      "source": [
        "stat, p = stats.kstest(df[\"MASQDG_sum_T4\"], 'norm', args=(df[\"MASQDG_sum_T4\"].mean(), df[\"MASQDG_sum_T4\"].std()))\n",
        "print(f\" Result for MASQDG_sum_T4: Statistic={stat:.4f}, p-value={p:.4f}\")"
      ],
      "metadata": {
        "colab": {
          "base_uri": "https://localhost:8080/"
        },
        "id": "UcVBBfNIXfFz",
        "outputId": "706612ff-a72a-45d3-da71-93c4dd81f3d7"
      },
      "execution_count": 35,
      "outputs": [
        {
          "output_type": "stream",
          "name": "stdout",
          "text": [
            " Result for MASQDG_sum_T4: Statistic=0.1370, p-value=0.0003\n"
          ]
        }
      ]
    },
    {
      "cell_type": "code",
      "source": [
        "sns.distplot(df['MASQDG_sum_T4'].dropna(), fit=norm)"
      ],
      "metadata": {
        "colab": {
          "base_uri": "https://localhost:8080/",
          "height": 0
        },
        "collapsed": true,
        "id": "WAcJK6mYXfIF",
        "outputId": "269f6879-dbcd-4b1c-a304-ff455d6b5ff4"
      },
      "execution_count": 36,
      "outputs": [
        {
          "output_type": "stream",
          "name": "stderr",
          "text": [
            "/tmp/ipython-input-1901623371.py:1: UserWarning: \n",
            "\n",
            "`distplot` is a deprecated function and will be removed in seaborn v0.14.0.\n",
            "\n",
            "Please adapt your code to use either `displot` (a figure-level function with\n",
            "similar flexibility) or `histplot` (an axes-level function for histograms).\n",
            "\n",
            "For a guide to updating your code to use the new functions, please see\n",
            "https://gist.github.com/mwaskom/de44147ed2974457ad6372750bbe5751\n",
            "\n",
            "  sns.distplot(df['MASQDG_sum_T4'].dropna(), fit=norm)\n"
          ]
        },
        {
          "output_type": "execute_result",
          "data": {
            "text/plain": [
              "<Axes: xlabel='MASQDG_sum_T4', ylabel='Density'>"
            ]
          },
          "metadata": {},
          "execution_count": 36
        },
        {
          "output_type": "display_data",
          "data": {
            "text/plain": [
              "<Figure size 640x480 with 1 Axes>"
            ],
            "image/png": "[encoded data removed]"
          },
          "metadata": {}
        }
      ]
    },
    {
      "cell_type": "markdown",
      "source": [
        "### Hypothesis :\n",
        "1. Extra_T1 - normal (p-value=0.6623)\n",
        "\n",
        "2. MASQAN_sum_T1 - not normal (p-value=0.0000)\n",
        "\n",
        "\n",
        "3. MASQ_ANH_sum_T1 - normal (p-value=0.1066)\n",
        "\n",
        "4. MASQ_ANH_sum_T4 - normal (p-value=0.2522)\n",
        "\n",
        "5. MASQDG_sum_T1 - not normal (p-value=0.0000)\n",
        "\n",
        "6. MASQDG_sum_T4 - not normal (p-value=0.0003)"
      ],
      "metadata": {
        "id": "M7epBSUYY4T_"
      }
    },
    {
      "cell_type": "markdown",
      "source": [
        "## Number group\n",
        "1. Age_T1_group - 3 groups\n",
        "\n",
        "2. MH_Diag_T1 - 2 groups\n",
        "\n",
        "3. Gender - 2 groups\n",
        "\n"
      ],
      "metadata": {
        "id": "Ub8nJAqgb30_"
      }
    },
    {
      "cell_type": "markdown",
      "source": [
        "## Group comparisons"
      ],
      "metadata": {
        "id": "6w_Dhcihb5Zp"
      }
    },
    {
      "cell_type": "markdown",
      "source": [
        "### MH_Diag_T1"
      ],
      "metadata": {
        "id": "vARZ8jgEceBS"
      }
    },
    {
      "cell_type": "code",
      "source": [
        "df.groupby('MH_Diag_T1')['MASQAN_sum_T1'].describe()"
      ],
      "metadata": {
        "colab": {
          "base_uri": "https://localhost:8080/",
          "height": 143
        },
        "id": "7-439dDmY4h5",
        "outputId": "ecebedad-1004-4c2d-aac1-57a15dea6c58"
      },
      "execution_count": 40,
      "outputs": [
        {
          "output_type": "execute_result",
          "data": {
            "text/plain": [
              "            count       mean       std   min   25%   50%   75%   max\n",
              "MH_Diag_T1                                                          \n",
              "1            52.0  22.538462  10.02636  10.0  14.0  19.0  31.0  47.0\n",
              "2           179.0  16.234637   7.02969   9.0  11.0  14.0  18.0  44.0"
            ],
            "text/html": [
              "\n",
              "  <div id=\"df-78454c88-d140-47e6-8e31-4191b996f052\" class=\"colab-df-container\">\n",
              "    <div>\n",
              "<style scoped>\n",
              "    .dataframe tbody tr th:only-of-type {\n",
              "        vertical-align: middle;\n",
              "    }\n",
              "\n",
              "    .dataframe tbody tr th {\n",
              "        vertical-align: top;\n",
              "    }\n",
              "\n",
              "    .dataframe thead th {\n",
              "        text-align: right;\n",
              "    }\n",
              "</style>\n",
              "<table border=\"1\" class=\"dataframe\">\n",
              "  <thead>\n",
              "    <tr style=\"text-align: right;\">\n",
              "      <th></th>\n",
              "      <th>count</th>\n",
              "      <th>mean</th>\n",
              "      <th>std</th>\n",
              "      <th>min</th>\n",
              "      <th>25%</th>\n",
              "      <th>50%</th>\n",
              "      <th>75%</th>\n",
              "      <th>max</th>\n",
              "    </tr>\n",
              "    <tr>\n",
              "      <th>MH_Diag_T1</th>\n",
              "      <th></th>\n",
              "      <th></th>\n",
              "      <th></th>\n",
              "      <th></th>\n",
              "      <th></th>\n",
              "      <th></th>\n",
              "      <th></th>\n",
              "      <th></th>\n",
              "    </tr>\n",
              "  </thead>\n",
              "  <tbody>\n",
              "    <tr>\n",
              "      <th>1</th>\n",
              "      <td>52.0</td>\n",
              "      <td>22.538462</td>\n",
              "      <td>10.02636</td>\n",
              "      <td>10.0</td>\n",
              "      <td>14.0</td>\n",
              "      <td>19.0</td>\n",
              "      <td>31.0</td>\n",
              "      <td>47.0</td>\n",
              "    </tr>\n",
              "    <tr>\n",
              "      <th>2</th>\n",
              "      <td>179.0</td>\n",
              "      <td>16.234637</td>\n",
              "      <td>7.02969</td>\n",
              "      <td>9.0</td>\n",
              "      <td>11.0</td>\n",
              "      <td>14.0</td>\n",
              "      <td>18.0</td>\n",
              "      <td>44.0</td>\n",
              "    </tr>\n",
              "  </tbody>\n",
              "</table>\n",
              "</div>\n",
              "    <div class=\"colab-df-buttons\">\n",
              "\n",
              "  <div class=\"colab-df-container\">\n",
              "    <button class=\"colab-df-convert\" onclick=\"convertToInteractive('df-78454c88-d140-47e6-8e31-4191b996f052')\"\n",
              "            title=\"Convert this dataframe to an interactive table.\"\n",
              "            style=\"display:none;\">\n",
              "\n",
              "  <svg xmlns=\"http://www.w3.org/2000/svg\" height=\"24px\" viewBox=\"0 -960 960 960\">\n",
              "    <path d=\"M120-120v-720h720v720H120Zm60-500h600v-160H180v160Zm220 220h160v-160H400v160Zm0 220h160v-160H400v160ZM180-400h160v-160H180v160Zm440 0h160v-160H620v160ZM180-180h160v-160H180v160Zm440 0h160v-160H620v160Z\"/>\n",
              "  </svg>\n",
              "    </button>\n",
              "\n",
              "  <style>\n",
              "    .colab-df-container {\n",
              "      display:flex;\n",
              "      gap: 12px;\n",
              "    }\n",
              "\n",
              "    .colab-df-convert {\n",
              "      background-color: #E8F0FE;\n",
              "      border: none;\n",
              "      border-radius: 50%;\n",
              "      cursor: pointer;\n",
              "      display: none;\n",
              "      fill: #1967D2;\n",
              "      height: 32px;\n",
              "      padding: 0 0 0 0;\n",
              "      width: 32px;\n",
              "    }\n",
              "\n",
              "    .colab-df-convert:hover {\n",
              "      background-color: #E2EBFA;\n",
              "      box-shadow: 0px 1px 2px rgba(60, 64, 67, 0.3), 0px 1px 3px 1px rgba(60, 64, 67, 0.15);\n",
              "      fill: #174EA6;\n",
              "    }\n",
              "\n",
              "    .colab-df-buttons div {\n",
              "      margin-bottom: 4px;\n",
              "    }\n",
              "\n",
              "    [theme=dark] .colab-df-convert {\n",
              "      background-color: #3B4455;\n",
              "      fill: #D2E3FC;\n",
              "    }\n",
              "\n",
              "    [theme=dark] .colab-df-convert:hover {\n",
              "      background-color: #434B5C;\n",
              "      box-shadow: 0px 1px 3px 1px rgba(0, 0, 0, 0.15);\n",
              "      filter: drop-shadow(0px 1px 2px rgba(0, 0, 0, 0.3));\n",
              "      fill: #FFFFFF;\n",
              "    }\n",
              "  </style>\n",
              "\n",
              "    <script>\n",
              "      const buttonEl =\n",
              "        document.querySelector('#df-78454c88-d140-47e6-8e31-4191b996f052 button.colab-df-convert');\n",
              "      buttonEl.style.display =\n",
              "        google.colab.kernel.accessAllowed ? 'block' : 'none';\n",
              "\n",
              "      async function convertToInteractive(key) {\n",
              "        const element = document.querySelector('#df-78454c88-d140-47e6-8e31-4191b996f052');\n",
              "        const dataTable =\n",
              "          await google.colab.kernel.invokeFunction('convertToInteractive',\n",
              "                                                    [key], {});\n",
              "        if (!dataTable) return;\n",
              "\n",
              "        const docLinkHtml = 'Like what you see? Visit the ' +\n",
              "          '<a target=\"_blank\" href=https://colab.research.google.com/notebooks/data_table.ipynb>data table notebook</a>'\n",
              "          + ' to learn more about interactive tables.';\n",
              "        element.innerHTML = '';\n",
              "        dataTable['output_type'] = 'display_data';\n",
              "        await google.colab.output.renderOutput(dataTable, element);\n",
              "        const docLink = document.createElement('div');\n",
              "        docLink.innerHTML = docLinkHtml;\n",
              "        element.appendChild(docLink);\n",
              "      }\n",
              "    </script>\n",
              "  </div>\n",
              "\n",
              "\n",
              "    <div id=\"df-c2a6ae95-fbac-4c7a-8995-1533638f7cb4\">\n",
              "      <button class=\"colab-df-quickchart\" onclick=\"quickchart('df-c2a6ae95-fbac-4c7a-8995-1533638f7cb4')\"\n",
              "                title=\"Suggest charts\"\n",
              "                style=\"display:none;\">\n",
              "\n",
              "<svg xmlns=\"http://www.w3.org/2000/svg\" height=\"24px\"viewBox=\"0 0 24 24\"\n",
              "     width=\"24px\">\n",
              "    <g>\n",
              "        <path d=\"M19 3H5c-1.1 0-2 .9-2 2v14c0 1.1.9 2 2 2h14c1.1 0 2-.9 2-2V5c0-1.1-.9-2-2-2zM9 17H7v-7h2v7zm4 0h-2V7h2v10zm4 0h-2v-4h2v4z\"/>\n",
              "    </g>\n",
              "</svg>\n",
              "      </button>\n",
              "\n",
              "<style>\n",
              "  .colab-df-quickchart {\n",
              "      --bg-color: #E8F0FE;\n",
              "      --fill-color: #1967D2;\n",
              "      --hover-bg-color: #E2EBFA;\n",
              "      --hover-fill-color: #174EA6;\n",
              "      --disabled-fill-color: #AAA;\n",
              "      --disabled-bg-color: #DDD;\n",
              "  }\n",
              "\n",
              "  [theme=dark] .colab-df-quickchart {\n",
              "      --bg-color: #3B4455;\n",
              "      --fill-color: #D2E3FC;\n",
              "      --hover-bg-color: #434B5C;\n",
              "      --hover-fill-color: #FFFFFF;\n",
              "      --disabled-bg-color: #3B4455;\n",
              "      --disabled-fill-color: #666;\n",
              "  }\n",
              "\n",
              "  .colab-df-quickchart {\n",
              "    background-color: var(--bg-color);\n",
              "    border: none;\n",
              "    border-radius: 50%;\n",
              "    cursor: pointer;\n",
              "    display: none;\n",
              "    fill: var(--fill-color);\n",
              "    height: 32px;\n",
              "    padding: 0;\n",
              "    width: 32px;\n",
              "  }\n",
              "\n",
              "  .colab-df-quickchart:hover {\n",
              "    background-color: var(--hover-bg-color);\n",
              "    box-shadow: 0 1px 2px rgba(60, 64, 67, 0.3), 0 1px 3px 1px rgba(60, 64, 67, 0.15);\n",
              "    fill: var(--button-hover-fill-color);\n",
              "  }\n",
              "\n",
              "  .colab-df-quickchart-complete:disabled,\n",
              "  .colab-df-quickchart-complete:disabled:hover {\n",
              "    background-color: var(--disabled-bg-color);\n",
              "    fill: var(--disabled-fill-color);\n",
              "    box-shadow: none;\n",
              "  }\n",
              "\n",
              "  .colab-df-spinner {\n",
              "    border: 2px solid var(--fill-color);\n",
              "    border-color: transparent;\n",
              "    border-bottom-color: var(--fill-color);\n",
              "    animation:\n",
              "      spin 1s steps(1) infinite;\n",
              "  }\n",
              "\n",
              "  @keyframes spin {\n",
              "    0% {\n",
              "      border-color: transparent;\n",
              "      border-bottom-color: var(--fill-color);\n",
              "      border-left-color: var(--fill-color);\n",
              "    }\n",
              "    20% {\n",
              "      border-color: transparent;\n",
              "      border-left-color: var(--fill-color);\n",
              "      border-top-color: var(--fill-color);\n",
              "    }\n",
              "    30% {\n",
              "      border-color: transparent;\n",
              "      border-left-color: var(--fill-color);\n",
              "      border-top-color: var(--fill-color);\n",
              "      border-right-color: var(--fill-color);\n",
              "    }\n",
              "    40% {\n",
              "      border-color: transparent;\n",
              "      border-right-color: var(--fill-color);\n",
              "      border-top-color: var(--fill-color);\n",
              "    }\n",
              "    60% {\n",
              "      border-color: transparent;\n",
              "      border-right-color: var(--fill-color);\n",
              "    }\n",
              "    80% {\n",
              "      border-color: transparent;\n",
              "      border-right-color: var(--fill-color);\n",
              "      border-bottom-color: var(--fill-color);\n",
              "    }\n",
              "    90% {\n",
              "      border-color: transparent;\n",
              "      border-bottom-color: var(--fill-color);\n",
              "    }\n",
              "  }\n",
              "</style>\n",
              "\n",
              "      <script>\n",
              "        async function quickchart(key) {\n",
              "          const quickchartButtonEl =\n",
              "            document.querySelector('#' + key + ' button');\n",
              "          quickchartButtonEl.disabled = true;  // To prevent multiple clicks.\n",
              "          quickchartButtonEl.classList.add('colab-df-spinner');\n",
              "          try {\n",
              "            const charts = await google.colab.kernel.invokeFunction(\n",
              "                'suggestCharts', [key], {});\n",
              "          } catch (error) {\n",
              "            console.error('Error during call to suggestCharts:', error);\n",
              "          }\n",
              "          quickchartButtonEl.classList.remove('colab-df-spinner');\n",
              "          quickchartButtonEl.classList.add('colab-df-quickchart-complete');\n",
              "        }\n",
              "        (() => {\n",
              "          let quickchartButtonEl =\n",
              "            document.querySelector('#df-c2a6ae95-fbac-4c7a-8995-1533638f7cb4 button');\n",
              "          quickchartButtonEl.style.display =\n",
              "            google.colab.kernel.accessAllowed ? 'block' : 'none';\n",
              "        })();\n",
              "      </script>\n",
              "    </div>\n",
              "    </div>\n",
              "  </div>\n"
            ],
            "application/vnd.google.colaboratory.intrinsic+json": {
              "type": "dataframe",
              "summary": "{\n  \"name\": \"df\",\n  \"rows\": 2,\n  \"fields\": [\n    {\n      \"column\": \"MH_Diag_T1\",\n      \"properties\": {\n        \"dtype\": \"number\",\n        \"std\": 0,\n        \"min\": 1,\n        \"max\": 2,\n        \"num_unique_values\": 2,\n        \"samples\": [\n          2,\n          1\n        ],\n        \"semantic_type\": \"\",\n        \"description\": \"\"\n      }\n    },\n    {\n      \"column\": \"count\",\n      \"properties\": {\n        \"dtype\": \"number\",\n        \"std\": 89.80256121069154,\n        \"min\": 52.0,\n        \"max\": 179.0,\n        \"num_unique_values\": 2,\n        \"samples\": [\n          179.0,\n          52.0\n        ],\n        \"semantic_type\": \"\",\n        \"description\": \"\"\n      }\n    },\n    {\n      \"column\": \"mean\",\n      \"properties\": {\n        \"dtype\": \"number\",\n        \"std\": 4.45747716941361,\n        \"min\": 16.23463687150838,\n        \"max\": 22.53846153846154,\n        \"num_unique_values\": 2,\n        \"samples\": [\n          16.23463687150838,\n          22.53846153846154\n        ],\n        \"semantic_type\": \"\",\n        \"description\": \"\"\n      }\n    },\n    {\n      \"column\": \"std\",\n      \"properties\": {\n        \"dtype\": \"number\",\n        \"std\": 2.1189657374883333,\n        \"min\": 7.029690345681021,\n        \"max\": 10.02636042984093,\n        \"num_unique_values\": 2,\n        \"samples\": [\n          7.029690345681021,\n          10.02636042984093\n        ],\n        \"semantic_type\": \"\",\n        \"description\": \"\"\n      }\n    },\n    {\n      \"column\": \"min\",\n      \"properties\": {\n        \"dtype\": \"number\",\n        \"std\": 0.7071067811865476,\n        \"min\": 9.0,\n        \"max\": 10.0,\n        \"num_unique_values\": 2,\n        \"samples\": [\n          9.0,\n          10.0\n        ],\n        \"semantic_type\": \"\",\n        \"description\": \"\"\n      }\n    },\n    {\n      \"column\": \"25%\",\n      \"properties\": {\n        \"dtype\": \"number\",\n        \"std\": 2.1213203435596424,\n        \"min\": 11.0,\n        \"max\": 14.0,\n        \"num_unique_values\": 2,\n        \"samples\": [\n          11.0,\n          14.0\n        ],\n        \"semantic_type\": \"\",\n        \"description\": \"\"\n      }\n    },\n    {\n      \"column\": \"50%\",\n      \"properties\": {\n        \"dtype\": \"number\",\n        \"std\": 3.5355339059327378,\n        \"min\": 14.0,\n        \"max\": 19.0,\n        \"num_unique_values\": 2,\n        \"samples\": [\n          14.0,\n          19.0\n        ],\n        \"semantic_type\": \"\",\n        \"description\": \"\"\n      }\n    },\n    {\n      \"column\": \"75%\",\n      \"properties\": {\n        \"dtype\": \"number\",\n        \"std\": 9.192388155425117,\n        \"min\": 18.0,\n        \"max\": 31.0,\n        \"num_unique_values\": 2,\n        \"samples\": [\n          18.0,\n          31.0\n        ],\n        \"semantic_type\": \"\",\n        \"description\": \"\"\n      }\n    },\n    {\n      \"column\": \"max\",\n      \"properties\": {\n        \"dtype\": \"number\",\n        \"std\": 2.1213203435596424,\n        \"min\": 44.0,\n        \"max\": 47.0,\n        \"num_unique_values\": 2,\n        \"samples\": [\n          44.0,\n          47.0\n        ],\n        \"semantic_type\": \"\",\n        \"description\": \"\"\n      }\n    }\n  ]\n}"
            }
          },
          "metadata": {},
          "execution_count": 40
        }
      ]
    },
    {
      "cell_type": "code",
      "source": [
        "group1 = df[df['MH_Diag_T1']==1]['MASQAN_sum_T1']\n",
        "group2 = df[df['MH_Diag_T1']==2]['MASQAN_sum_T1']"
      ],
      "metadata": {
        "id": "YD_gFQIlcTBm"
      },
      "execution_count": 41,
      "outputs": []
    },
    {
      "cell_type": "code",
      "source": [
        "stats.ttest_ind(group1.dropna(), group2.dropna(), equal_var=False)"
      ],
      "metadata": {
        "colab": {
          "base_uri": "https://localhost:8080/"
        },
        "id": "yXe3_v4rcxdh",
        "outputId": "6024c267-b8f0-4b15-dc03-cac488608818"
      },
      "execution_count": 43,
      "outputs": [
        {
          "output_type": "execute_result",
          "data": {
            "text/plain": [
              "TtestResult(statistic=np.float64(4.241084025270021), pvalue=np.float64(7.059280389086015e-05), df=np.float64(66.21898005549238))"
            ]
          },
          "metadata": {},
          "execution_count": 43
        }
      ]
    },
    {
      "cell_type": "markdown",
      "source": [
        "H1: Variances of the Extra_T1 for people with and without mental health disorder diagnosis are different.\n",
        "\n",
        "H0: Variances of the Extra_T1 for people with and without mental health disorder diagnosis are not different.\n",
        "\n",
        "**Conclusion:** p-value < 0.05, H0 is rejected, H1 is not rejected => variances in two groups are different\n",
        "\n",
        "-> t-test with Welch correction"
      ],
      "metadata": {
        "id": "NWPRfSL8cgDX"
      }
    },
    {
      "cell_type": "code",
      "source": [
        "stats.mannwhitneyu(group1.dropna(), group2.dropna())"
      ],
      "metadata": {
        "colab": {
          "base_uri": "https://localhost:8080/"
        },
        "id": "qF371gU8cW12",
        "outputId": "46a246a0-7b26-449b-c90a-70f391a46892"
      },
      "execution_count": 42,
      "outputs": [
        {
          "output_type": "execute_result",
          "data": {
            "text/plain": [
              "MannwhitneyuResult(statistic=np.float64(6481.0), pvalue=np.float64(1.5492488404153658e-05))"
            ]
          },
          "metadata": {},
          "execution_count": 42
        }
      ]
    },
    {
      "cell_type": "markdown",
      "source": [
        "MH_Diag_T1:\n",
        "\n",
        "H1: Mean values of the Extra_T1 for people with and without mental health disorder diagnosis are different.\n",
        "\n",
        "H0: Mean values of the Extra_T1 for people with and without mental health disorder diagnosis are not different.\n",
        "\n",
        "**Conclusion:** p-value < 0.05, H1 is accepted"
      ],
      "metadata": {
        "id": "ueds_kn1drSl"
      }
    },
    {
      "cell_type": "markdown",
      "source": [
        "### Gender"
      ],
      "metadata": {
        "id": "JcNZlMFkdGwa"
      }
    },
    {
      "cell_type": "code",
      "source": [
        "group1 = df[df['Gender']==1.0]['Extra_T1']\n",
        "group2 = df[df['Gender']==2.0]['Extra_T1']"
      ],
      "metadata": {
        "id": "jAxjK18BdPRv"
      },
      "execution_count": null,
      "outputs": []
    },
    {
      "cell_type": "code",
      "source": [
        "stats.ttest_ind(group1.dropna(), group2.dropna())"
      ],
      "metadata": {
        "id": "U5FDBjM-dPVR"
      },
      "execution_count": null,
      "outputs": []
    },
    {
      "cell_type": "markdown",
      "source": [
        "H1: Variances of the Extra_T1 for people with and without mental health disorder diagnosis are different.\n",
        "\n",
        "H0: Variances of the Extra_T1 for people with and without mental health disorder diagnosis are not different.\n",
        "\n",
        "**Conclusion:** p-value > 0.05, H1 is rejected, H0 is not rejected => variances in two groups are not different\n"
      ],
      "metadata": {
        "id": "S1ySrswsdhhJ"
      }
    },
    {
      "cell_type": "code",
      "source": [
        "stats.ttest_ind(group1.dropna(), group2.dropna())"
      ],
      "metadata": {
        "id": "WhbbOpTFdPbk"
      },
      "execution_count": null,
      "outputs": []
    },
    {
      "cell_type": "markdown",
      "source": [
        "H1: Mean values of the Extra_T1 for males and females are different.\n",
        "\n",
        "H0: Mean values of the Extra_T1 for males and females are not different.\n",
        "\n",
        "**Conclusion:** p-value > 0.05, H0 is accepted"
      ],
      "metadata": {
        "id": "LnSA2iZtdg67"
      }
    },
    {
      "cell_type": "markdown",
      "source": [
        "### Age"
      ],
      "metadata": {
        "id": "HWV_KWwAeCUS"
      }
    },
    {
      "cell_type": "code",
      "source": [
        "df.groupby('Age_T1_group')['Extra_T1'].describe()"
      ],
      "metadata": {
        "id": "mPpOzXDDeFfH"
      },
      "execution_count": null,
      "outputs": []
    },
    {
      "cell_type": "code",
      "source": [
        "group1 = df[df['Age_T1_group']=='17-20']['Extra_T1']\n",
        "group2 = df[df['Age_T1_group']=='21-22']['Extra_T1']\n",
        "group3 = df[df['Age_T1_group']=='>23']['Extra_T1']"
      ],
      "metadata": {
        "id": "Et37caX4eFsA"
      },
      "execution_count": null,
      "outputs": []
    },
    {
      "cell_type": "code",
      "source": [
        "stats.levene(group1.dropna(), group2.dropna(), group3.dropna())"
      ],
      "metadata": {
        "id": "n4nydrh1eH7r"
      },
      "execution_count": null,
      "outputs": []
    },
    {
      "cell_type": "markdown",
      "source": [
        "different age\n",
        "\n",
        "H1: Variances of the Extra_T1 for people of different age groups are different.\n",
        "\n",
        "H0: Variances of the Extra_T1 for people of different age groups are not different.\n",
        "\n",
        "**Conclusion:** p-value > 0.05, H1 is rejected"
      ],
      "metadata": {
        "id": "iEu2sfxdeKv3"
      }
    },
    {
      "cell_type": "code",
      "source": [
        "stats.f_oneway(group1, group2, group3)"
      ],
      "metadata": {
        "id": "lE64QX-XePeQ"
      },
      "execution_count": null,
      "outputs": []
    },
    {
      "cell_type": "markdown",
      "source": [
        "H1: the mean values of the Extra_T1 for people of different age groups are different\n",
        "\n",
        "H0: the mean values of the Extra_T1 for people of different age groups are not different\n",
        "\n",
        "**Conclusion:** p-value > 0.05, H0 is accepted"
      ],
      "metadata": {
        "id": "CXd4NWkfeQpT"
      }
    },
    {
      "cell_type": "markdown",
      "source": [
        "## Group comparisons for MASQAN_sum_T1"
      ],
      "metadata": {
        "id": "nMsSi_JceVjS"
      }
    },
    {
      "cell_type": "code",
      "source": [
        "df.groupby('MH_Diag_T1')['MASQAN_sum_T1'].describe()"
      ],
      "metadata": {
        "id": "GZuH8Cm1eXWF"
      },
      "execution_count": null,
      "outputs": []
    },
    {
      "cell_type": "code",
      "source": [
        "group1 = df[df['MH_Diag_T1']==1]['MASQAN_sum_T1']\n",
        "group2 = df[df['MH_Diag_T1']==2]['MASQAN_sum_T1']"
      ],
      "metadata": {
        "id": "cD2eif7NeY8d"
      },
      "execution_count": null,
      "outputs": []
    },
    {
      "cell_type": "code",
      "source": [
        "stats.mannwhitneyu(group1.dropna(), group2.dropna())"
      ],
      "metadata": {
        "id": "Rmt0Uun5ebVx"
      },
      "execution_count": null,
      "outputs": []
    },
    {
      "cell_type": "markdown",
      "source": [
        "MASQAN_sum_T1 - not normal > M-Whitney U test\n",
        "\n",
        "H1: Values of the variable MASQAN_sum_T1 for people with and without mental health disorder diagnosis are different.\n",
        "\n",
        "H0: Values of the variable MASQAN_sum_T1 for people with and without mental health disorder diagnosis are not different.\n",
        "\n",
        "**Conclusion:** p-value < 0.05, H1 is accepted"
      ],
      "metadata": {
        "id": "TTWi1osPeb3Z"
      }
    },
    {
      "cell_type": "markdown",
      "source": [
        "### Gender"
      ],
      "metadata": {
        "id": "UwyvxnJMeufE"
      }
    },
    {
      "cell_type": "code",
      "source": [
        "df.groupby('Gender')['MASQAN_sum_T1'].describe()"
      ],
      "metadata": {
        "id": "xHiRVrpmezzF"
      },
      "execution_count": null,
      "outputs": []
    },
    {
      "cell_type": "code",
      "source": [
        "group1 = df[df['Gender']==1]['MASQAN_sum_T1']\n",
        "group2 = df[df['Gender']==2]['MASQAN_sum_T1']"
      ],
      "metadata": {
        "id": "1GHBTtfQew2h"
      },
      "execution_count": null,
      "outputs": []
    },
    {
      "cell_type": "code",
      "source": [
        "stats.mannwhitneyu(group1.dropna(), group2.dropna())"
      ],
      "metadata": {
        "id": "Zyta2-vye1yt"
      },
      "execution_count": null,
      "outputs": []
    },
    {
      "cell_type": "markdown",
      "source": [
        "H1: Values of the variable MASQAN_sum_T1 for males and females are different.\n",
        "\n",
        "H0: Values of the variable MASQAN_sum_T1 for males and females are not different.\n",
        "\n",
        "**Conclusion:** p-value > 0.05, H0 is accepted"
      ],
      "metadata": {
        "id": "cyfKx0kze41l"
      }
    },
    {
      "cell_type": "markdown",
      "source": [
        "### Age difference"
      ],
      "metadata": {
        "id": "BCe6f7ile-fr"
      }
    },
    {
      "cell_type": "code",
      "source": [
        "df.groupby('Age_T1_group')['MASQAN_sum_T1'].describe()"
      ],
      "metadata": {
        "id": "qfwOpBNhe8TU"
      },
      "execution_count": null,
      "outputs": []
    },
    {
      "cell_type": "code",
      "source": [
        "group1 = df[df['Age_T1_group']=='17-20']['MASQAN_sum_T1']\n",
        "group2 = df[df['Age_T1_group']=='21-22']['MASQAN_sum_T1']\n",
        "group3 = df[df['Age_T1_group']=='>23']['MASQAN_sum_T1']"
      ],
      "metadata": {
        "id": "ZLD6D1awfFjE"
      },
      "execution_count": null,
      "outputs": []
    },
    {
      "cell_type": "code",
      "source": [
        "stats.kruskal(group1, group2, group3)"
      ],
      "metadata": {
        "id": "PIqZzlx0fGVq"
      },
      "execution_count": null,
      "outputs": []
    },
    {
      "cell_type": "markdown",
      "source": [
        "H1: Variances of the MASQAN_sum_T1 for people of different age groups are different.\n",
        "\n",
        "H0: Variances of the MASQAN_sum_T1 for people of different age groups are not different.\n",
        "\n",
        "**Conclusion:** p-value > 0.05, H1 is rejected"
      ],
      "metadata": {
        "id": "v0GvsUt6fHPt"
      }
    },
    {
      "cell_type": "markdown",
      "source": [
        "## Compare the values of the MASQ_ANH_sum_* for time points T1 and T4"
      ],
      "metadata": {
        "id": "mdZjn3KofMA9"
      }
    },
    {
      "cell_type": "markdown",
      "source": [
        "1. MASQ_ANH_sum_T1 - normal\n",
        "\n",
        "2. MASQ_ANH_sum_T4 - normal\n",
        "\n",
        "*  pair T-test"
      ],
      "metadata": {
        "id": "0ENiDQC5fYO9"
      }
    },
    {
      "cell_type": "code",
      "source": [
        "df = df.dropna(subset=['MASQ_ANH_sum_T1'])\n",
        "df = df.dropna(subset=['MASQ_ANH_sum_T4'])\n",
        "stats.ttest_rel(df['MASQ_ANH_sum_T1'], df['MASQ_ANH_sum_T4'])"
      ],
      "metadata": {
        "id": "uDIQWjyNfNgj"
      },
      "execution_count": null,
      "outputs": []
    },
    {
      "cell_type": "markdown",
      "source": [
        "H1: Mean values of the MASQ_ANH_sum for T1 and T4 are different.\n",
        "\n",
        "H0: Mean values of the MASQ_ANH_sum for T1 and T4 are not different.\n",
        "\n",
        "Conclusion: p-value > 0.05, H1 is rejected"
      ],
      "metadata": {
        "id": "mFhQEN6Nfbq4"
      }
    },
    {
      "cell_type": "markdown",
      "source": [
        "## Compare the values of the MASQDG_sum_* for time points T1 and T4"
      ],
      "metadata": {
        "id": "ORHq2sTofeBu"
      }
    },
    {
      "cell_type": "markdown",
      "source": [
        "1. MASQDG_sum_T1 - not normal\n",
        "\n",
        "2. MASQDG_sum_T4 - not normal\n",
        "\n",
        "*  Wilcoxon signed-rank test"
      ],
      "metadata": {
        "id": "xnJeZsVjfg5E"
      }
    },
    {
      "cell_type": "code",
      "source": [
        "df = df.dropna(subset=['MASQDG_sum_T1'])\n",
        "df = df.dropna(subset=['MASQDG_sum_T4'])\n",
        "stats.wilcoxon(df['MASQDG_sum_T1'], df['MASQDG_sum_T4'])"
      ],
      "metadata": {
        "id": "tFSI3W58fkjP"
      },
      "execution_count": null,
      "outputs": []
    },
    {
      "cell_type": "code",
      "source": [],
      "metadata": {
        "id": "nkGk5rR4fl9K"
      },
      "execution_count": null,
      "outputs": []
    }
  ]
}